{
 "cells": [
  {
   "cell_type": "code",
   "execution_count": null,
   "metadata": {},
   "outputs": [],
   "source": [
    "#我们使用的另一个python库，因为所要求使用的那一个实在是有点不知道该如何使用\n",
    "import pywt\n",
    "import numpy as np\n",
    "import matplotlib.pyplot as plt\n",
    "import h5py\n",
    "\n",
    "# 加载HDF5文件\n",
    "file_path = 'LDC2_spritz_mbhb1_training_v1.h5'\n",
    "h5_file = h5py.File(file_path, 'r')\n",
    "\n",
    "# 从HDF5文件读取数据\n",
    "obs_tdi_data = h5_file['/obs/tdi']\n",
    "times = obs_tdi_data['t'][:]\n",
    "strain_X = obs_tdi_data['X'][:]\n",
    "strain_Y = obs_tdi_data['Y'][:]\n",
    "strain_Z = obs_tdi_data['Z'][:]\n",
    "\n",
    "# 执行离散小波变换\n",
    "wavelet = 'db4'  # 使用Daubechies 4小波\n",
    "coeffs_X = pywt.wavedec(strain_X, wavelet, mode='symmetric', level=None)\n",
    "coeffs_Y = pywt.wavedec(strain_Y, wavelet, mode='symmetric', level=None)\n",
    "coeffs_Z = pywt.wavedec(strain_Z, wavelet, mode='symmetric', level=None)\n",
    "\n",
    "# 可视化小波变换的近似系数和细节系数\n",
    "plt.figure(figsize=(12, 10))\n",
    "for i, (coeff_X, coeff_Y, coeff_Z) in enumerate(zip(coeffs_X, coeffs_Y, coeffs_Z)):\n",
    "    plt.subplot(len(coeffs_X), 3, i * 3 + 1)\n",
    "    plt.plot(coeff_X, label=f'Level {i} - X', color='r')\n",
    "    plt.title(f'Coefficients X - Level {i}')\n",
    "    plt.legend()\n",
    "\n",
    "    plt.subplot(len(coeffs_X), 3, i * 3 + 2)\n",
    "    plt.plot(coeff_Y, label=f'Level {i} - Y', color='g')\n",
    "    plt.title(f'Coefficients Y - Level {i}')\n",
    "    plt.legend()\n",
    "\n",
    "    plt.subplot(len(coeffs_X), 3, i * 3 + 3)\n",
    "    plt.plot(coeff_Z, label=f'Level {i} - Z', color='b')\n",
    "    plt.title(f'Coefficients Z - Level {i}')\n",
    "    plt.legend()\n",
    "\n",
    "plt.tight_layout()\n",
    "plt.show()\n"
   ]
  }
 ],
 "metadata": {
  "language_info": {
   "name": "python"
  }
 },
 "nbformat": 4,
 "nbformat_minor": 2
}
